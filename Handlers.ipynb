{
 "cells": [
  {
   "cell_type": "markdown",
   "metadata": {},
   "source": [
    "# Uchwyty do obiektów"
   ]
  },
  {
   "cell_type": "markdown",
   "metadata": {},
   "source": [
    "## Definicja "
   ]
  },
  {
   "cell_type": "markdown",
   "metadata": {},
   "source": [
    "> In computer programming, a handle is an abstract reference to a resource that is used when application software references blocks of memory or objects that are managed by another system like a database or an operating system."
   ]
  },
  {
   "cell_type": "markdown",
   "metadata": {},
   "source": [
    "### Czym uchwyty różnią się od wskaźników"
   ]
  },
  {
   "cell_type": "markdown",
   "metadata": {},
   "source": [
    "> While a pointer contains the address of the item to which it refers, a handle is an abstraction of a reference which is managed externally; its opacity allows the referent to be relocated in memory by the system without invalidating the handle, which is impossible with pointers. The extra layer of indirection also increases the control that the managing system has over the operations performed on the referent."
   ]
  },
  {
   "cell_type": "markdown",
   "metadata": {},
   "source": [
    "### Przykład uchwytu"
   ]
  },
  {
   "cell_type": "markdown",
   "metadata": {},
   "source": [
    "https://man7.org/linux/man-pages/man2/open.2.html"
   ]
  },
  {
   "cell_type": "code",
   "execution_count": 1,
   "metadata": {},
   "outputs": [],
   "source": [
    "#include<stdio.h> \n",
    "#include<fcntl.h> \n",
    "#include <unistd.h>\n",
    "\n",
    "int fd = open(\"/etc/passwd\", O_RDWR);\n",
    "close(fd);"
   ]
  },
  {
   "cell_type": "code",
   "execution_count": 2,
   "metadata": {},
   "outputs": [],
   "source": [
    "struct Widget {};"
   ]
  },
  {
   "cell_type": "code",
   "execution_count": 3,
   "metadata": {},
   "outputs": [],
   "source": [
    "Widget* findWidget(std::string) { return nullptr; }"
   ]
  },
  {
   "cell_type": "code",
   "execution_count": 4,
   "metadata": {},
   "outputs": [],
   "source": [
    "Widget* getWidget(std::string name) {\n",
    "    Widget *w;\n",
    "    w = findWidget(name);\n",
    "    return w;\n",
    "}"
   ]
  },
  {
   "cell_type": "code",
   "execution_count": 5,
   "metadata": {},
   "outputs": [],
   "source": [
    "void* getWidget(std::string name) {\n",
    "    Widget *w;\n",
    "    w = findWidget(name);\n",
    "    return reinterpret_cast<void *>(w);\n",
    "}"
   ]
  },
  {
   "cell_type": "code",
   "execution_count": 6,
   "metadata": {},
   "outputs": [],
   "source": [
    "typedef void* HANDLE;"
   ]
  },
  {
   "cell_type": "code",
   "execution_count": 7,
   "metadata": {},
   "outputs": [],
   "source": [
    "HANDLE getWidget(std::string name) {\n",
    "    Widget *w;\n",
    "    w = findWidget(name);\n",
    "    return reinterpret_cast<HANDLE>(w);\n",
    "}"
   ]
  },
  {
   "cell_type": "markdown",
   "metadata": {},
   "source": [
    "https://docs.microsoft.com/en-gb/windows/win32/winprog/windows-data-types?redirectedfrom=MSDN"
   ]
  },
  {
   "cell_type": "markdown",
   "metadata": {},
   "source": [
    "### Czas wrócić do cpp"
   ]
  },
  {
   "cell_type": "markdown",
   "metadata": {},
   "source": [
    "- Czym są smart pointery?\n",
    "- `std::shared_ptr`\n",
    "  - Jak z nich korzystać?\n",
    "  - (A)RC vs GC\n",
    "  - Jak działa `std::shared_ptr`?\n",
    "  - `std::make_shared` vs `new`\n",
    "  - constructor aliasing\n",
    "- `std::week_ptr`\n",
    "  - Jak z nich korzystać?\n",
    "  - Jakie problemy rozwiązują?\n",
    "  - Czy na pewno `std::make_shared` jest lepsze od `new`?\n",
    "- `std::unique_ptr`\n",
    "  - Jak z nich korzystać?\n",
    "  - `std::make_unique`\n",
    "  - `std::shared_ptr` z `std::unique_ptr`\n",
    "- Jak przekazywać smart pointery?\n",
    "- Najczęściej popełniane błedy\n",
    "- `std::enable_shared_from_this`\n",
    "- `std::optional`\n",
    "- Wartościowanie leniwe\n",
    "  - funkcje konwertujące"
   ]
  },
  {
   "cell_type": "markdown",
   "metadata": {},
   "source": [
    "### Czym są smart pointery?"
   ]
  },
  {
   "cell_type": "markdown",
   "metadata": {},
   "source": [
    "> A smart pointer is a wrapper class over a pointer with an operator like * and -> overloaded. The objects of smart pointer class look like a pointer but can do many things that a normal pointer can’t like automatic destruction (yes, we don’t have to explicitly use delete), reference counting and more."
   ]
  },
  {
   "cell_type": "code",
   "execution_count": 8,
   "metadata": {},
   "outputs": [],
   "source": [
    "#include <memory>"
   ]
  },
  {
   "cell_type": "markdown",
   "metadata": {},
   "source": [
    "### `std::shared_ptr`"
   ]
  },
  {
   "cell_type": "markdown",
   "metadata": {},
   "source": [
    "> Use `std::shared_ptr` for shared-ownership resource management. ~ **Scott Meyers**"
   ]
  },
  {
   "cell_type": "code",
   "execution_count": 9,
   "metadata": {
    "slideshow": {
     "slide_type": "slide"
    }
   },
   "outputs": [],
   "source": [
    "// ?std::shared_ptr"
   ]
  },
  {
   "cell_type": "code",
   "execution_count": 10,
   "metadata": {},
   "outputs": [
    {
     "name": "stdout",
     "output_type": "stream",
     "text": [
      "10"
     ]
    }
   ],
   "source": [
    "#include <iostream>\n",
    "\n",
    "int* ptr = new int;\n",
    "*ptr = 10;\n",
    "std::cout << *ptr;"
   ]
  },
  {
   "cell_type": "code",
   "execution_count": 11,
   "metadata": {},
   "outputs": [
    {
     "name": "stdout",
     "output_type": "stream",
     "text": [
      "10"
     ]
    }
   ],
   "source": [
    "int* ptr = new int;\n",
    "*ptr = 10;\n",
    "std::cout << *ptr;\n",
    "delete ptr; // <---------"
   ]
  },
  {
   "cell_type": "code",
   "execution_count": 12,
   "metadata": {},
   "outputs": [
    {
     "name": "stdout",
     "output_type": "stream",
     "text": [
      "10\n"
     ]
    }
   ],
   "source": [
    "{\n",
    "    std::shared_ptr<int> sp(new int);\n",
    "    *sp = 10;\n",
    "    std::cout << *sp << std::endl; \n",
    "}"
   ]
  },
  {
   "cell_type": "code",
   "execution_count": 13,
   "metadata": {},
   "outputs": [],
   "source": [
    "struct Foo {\n",
    "    Foo() { std::cout << \"Foo...\\n\"; }\n",
    "    ~Foo() { std::cout << \"~Foo...\\n\"; }\n",
    "};"
   ]
  },
  {
   "cell_type": "code",
   "execution_count": 14,
   "metadata": {},
   "outputs": [],
   "source": [
    "{\n",
    "    std::shared_ptr<Foo> sp; \n",
    "}"
   ]
  },
  {
   "cell_type": "code",
   "execution_count": 15,
   "metadata": {},
   "outputs": [
    {
     "name": "stdout",
     "output_type": "stream",
     "text": [
      "Foo...\n",
      "~Foo...\n"
     ]
    }
   ],
   "source": [
    "{\n",
    "    std::shared_ptr<Foo> sp(new Foo); \n",
    "}"
   ]
  },
  {
   "cell_type": "code",
   "execution_count": 16,
   "metadata": {},
   "outputs": [
    {
     "name": "stdout",
     "output_type": "stream",
     "text": [
      "Foo...\n",
      "~Foo...\n"
     ]
    }
   ],
   "source": [
    "{\n",
    "    auto* f = new Foo;\n",
    "    std::shared_ptr<Foo> sp(f); \n",
    "}"
   ]
  },
  {
   "cell_type": "code",
   "execution_count": 17,
   "metadata": {},
   "outputs": [],
   "source": [
    "struct Foo2 {\n",
    "    int i;\n",
    "    Foo2(int i) : i(i) { std::cout << \"Foo2[\" << i << \"]...\\n\"; }\n",
    "    ~Foo2() { std::cout << \"~Foo2[\" << i << \"]...\\n\"; }\n",
    "};"
   ]
  },
  {
   "cell_type": "code",
   "execution_count": 18,
   "metadata": {},
   "outputs": [
    {
     "name": "stdout",
     "output_type": "stream",
     "text": [
      "Foo2[1]...\n",
      "Foo2[2]...\n",
      "~Foo2[2]...\n",
      "~Foo2[1]...\n"
     ]
    }
   ],
   "source": [
    "{\n",
    "    std::shared_ptr<Foo2> sp(new Foo2(1));\n",
    "//     std::shared_ptr<Foo2> sp = new Foo2(1);\n",
    "\n",
    "    std::shared_ptr<Foo2> sp2 = std::make_shared<Foo2>(2); \n",
    "}"
   ]
  },
  {
   "cell_type": "code",
   "execution_count": 19,
   "metadata": {},
   "outputs": [],
   "source": [
    "struct Foo {\n",
    "    int bar = 20;\n",
    "    \n",
    "    Foo() { std::cout << \"Foo...\\n\"; }\n",
    "    ~Foo() { std::cout << \"~Foo...\\n\"; }\n",
    "    \n",
    "    void print() {std::cout << \"Foo.print()\\n\"; }\n",
    "};"
   ]
  },
  {
   "cell_type": "code",
   "execution_count": 20,
   "metadata": {},
   "outputs": [
    {
     "name": "stdout",
     "output_type": "stream",
     "text": [
      "Foo...\n",
      "Foo.print()\n",
      "30\n",
      "Foo.print()\n",
      "0x55a57d37ef10\n"
     ]
    }
   ],
   "source": [
    "std::shared_ptr<Foo> sp = std::make_shared<Foo>();\n",
    "sp->print();\n",
    "sp->bar = 30;\n",
    "std::cout << sp->bar << std::endl;\n",
    "(*sp).print();\n",
    "std::cout << &(*sp) << std::endl;"
   ]
  },
  {
   "cell_type": "markdown",
   "metadata": {},
   "source": [
    "#### .get()"
   ]
  },
  {
   "cell_type": "code",
   "execution_count": 21,
   "metadata": {},
   "outputs": [
    {
     "name": "stdout",
     "output_type": "stream",
     "text": [
      "0x55a57d37ef10\n"
     ]
    }
   ],
   "source": [
    "std::cout << sp.get() << std::endl;"
   ]
  },
  {
   "cell_type": "markdown",
   "metadata": {},
   "source": [
    "#### .use_count()"
   ]
  },
  {
   "cell_type": "code",
   "execution_count": 22,
   "metadata": {},
   "outputs": [
    {
     "data": {
      "text/plain": [
       "1"
      ]
     },
     "execution_count": 22,
     "metadata": {},
     "output_type": "execute_result"
    }
   ],
   "source": [
    "sp.use_count()"
   ]
  },
  {
   "cell_type": "markdown",
   "metadata": {},
   "source": [
    "#### .reset()"
   ]
  },
  {
   "cell_type": "code",
   "execution_count": 23,
   "metadata": {},
   "outputs": [
    {
     "name": "stdout",
     "output_type": "stream",
     "text": [
      "~Foo...\n"
     ]
    }
   ],
   "source": [
    "sp.reset()"
   ]
  },
  {
   "cell_type": "code",
   "execution_count": 24,
   "metadata": {},
   "outputs": [
    {
     "data": {
      "text/plain": [
       "0"
      ]
     },
     "execution_count": 24,
     "metadata": {},
     "output_type": "execute_result"
    }
   ],
   "source": [
    "sp.use_count()"
   ]
  },
  {
   "cell_type": "code",
   "execution_count": 25,
   "metadata": {},
   "outputs": [
    {
     "name": "stdout",
     "output_type": "stream",
     "text": [
      "0\n"
     ]
    }
   ],
   "source": [
    "std::cout << sp.get() << std::endl;"
   ]
  },
  {
   "cell_type": "markdown",
   "metadata": {},
   "source": [
    "#### Kopiowanie wskaźników"
   ]
  },
  {
   "cell_type": "code",
   "execution_count": 26,
   "metadata": {},
   "outputs": [
    {
     "name": "stdout",
     "output_type": "stream",
     "text": [
      "Foo...\n",
      "2\n",
      "End of inner scope \n",
      "End of scope \n",
      "~Foo...\n"
     ]
    }
   ],
   "source": [
    "{\n",
    "    std::shared_ptr<Foo> sp;\n",
    "    {\n",
    "        std::shared_ptr<Foo> spInner = std::make_shared<Foo>();\n",
    "        sp = spInner;\n",
    "        \n",
    "        std::cout << sp.use_count() << std::endl;\n",
    "        \n",
    "        std::cout << \"End of inner scope \\n\";\n",
    "    }\n",
    "    \n",
    "    std::cout << \"End of scope \\n\";\n",
    "}"
   ]
  },
  {
   "cell_type": "markdown",
   "metadata": {},
   "source": [
    "### (A)RC vs GC"
   ]
  },
  {
   "cell_type": "markdown",
   "metadata": {},
   "source": [
    "![](./img/gc.png)"
   ]
  },
  {
   "cell_type": "markdown",
   "metadata": {},
   "source": [
    "![](./img/rc.png)"
   ]
  },
  {
   "cell_type": "markdown",
   "metadata": {},
   "source": [
    "### Ale w sumie to po co nam to?"
   ]
  },
  {
   "cell_type": "code",
   "execution_count": 27,
   "metadata": {},
   "outputs": [],
   "source": [
    "#include <vector>\n",
    "\n",
    "class A {\n",
    "public:\n",
    "    int a;\n",
    "    \n",
    "    A() {\n",
    "        std::cout << \"A...\\n\";\n",
    "    }\n",
    "    \n",
    "    ~A() {\n",
    "        std::cout << \"~A...\\n\";    \n",
    "    }\n",
    "    \n",
    "    virtual void print() {\n",
    "        std::cout << \"A\\n\";\n",
    "    }\n",
    "};\n",
    "\n",
    "class B : public A {\n",
    "public:\n",
    "    int b;\n",
    "    \n",
    "    B() {\n",
    "        std::cout << \"B...\\n\";\n",
    "    }\n",
    "    \n",
    "    ~B() {\n",
    "        std::cout << \"~B...\\n\";    \n",
    "    }\n",
    "    \n",
    "    \n",
    "    virtual void print() override {\n",
    "        std::cout << \"B\\n\";\n",
    "    }\n",
    "};"
   ]
  },
  {
   "cell_type": "code",
   "execution_count": 28,
   "metadata": {},
   "outputs": [
    {
     "name": "stdout",
     "output_type": "stream",
     "text": [
      "A...\n",
      "~A...\n",
      "A...\n",
      "B...\n",
      "~A...\n",
      "~B...\n",
      "~A...\n",
      "A\n",
      "A\n",
      "~A...\n",
      "~A...\n"
     ]
    }
   ],
   "source": [
    "{ \n",
    "    std::vector<A> vec;\n",
    "\n",
    "    vec.push_back(A());\n",
    "    vec.push_back(B());\n",
    "\n",
    "    for (auto& a : vec) {\n",
    "        a.print();\n",
    "    }\n",
    "}"
   ]
  },
  {
   "cell_type": "code",
   "execution_count": 29,
   "metadata": {},
   "outputs": [
    {
     "name": "stdout",
     "output_type": "stream",
     "text": [
      "A...\n",
      "A...\n",
      "B...\n",
      "A\n",
      "B\n"
     ]
    }
   ],
   "source": [
    "{\n",
    "    std::vector<A*> vec;\n",
    "\n",
    "    vec.push_back(new A());\n",
    "    vec.push_back(new B());\n",
    "\n",
    "    for (auto* a : vec) {\n",
    "        a->print();\n",
    "    }\n",
    "}"
   ]
  },
  {
   "cell_type": "code",
   "execution_count": 30,
   "metadata": {},
   "outputs": [
    {
     "name": "stdout",
     "output_type": "stream",
     "text": [
      "A...\n",
      "A...\n",
      "A...\n",
      "B...\n",
      "A\n",
      "A\n",
      "B\n",
      "~A...\n",
      "~A...\n",
      "~B...\n",
      "~A...\n"
     ]
    }
   ],
   "source": [
    "{\n",
    "    std::vector<std::shared_ptr<A>> vec;\n",
    "\n",
    "    vec.push_back(std::make_shared<A>());\n",
    "    vec.emplace_back(new A());\n",
    "    vec.emplace_back(new B());\n",
    "\n",
    "    for (auto a : vec) { // a może auto& <- ?\n",
    "        a->print();\n",
    "    }\n",
    "}"
   ]
  },
  {
   "cell_type": "markdown",
   "metadata": {},
   "source": [
    "### Jak to działa?"
   ]
  },
  {
   "cell_type": "markdown",
   "metadata": {},
   "source": [
    "![](./img/sp-memory-foot-print.png)"
   ]
  },
  {
   "cell_type": "code",
   "execution_count": 31,
   "metadata": {},
   "outputs": [
    {
     "name": "stdout",
     "output_type": "stream",
     "text": [
      "A...\n",
      "B...\n",
      "Raw: 0x55a57b627cf0\n",
      "sp: 0x55a57b627cf0\n",
      "sp2: 0x55a57b627cf0\n",
      "sp3: 0x55a57b627d00\n",
      "~B...\n",
      "~A...\n"
     ]
    }
   ],
   "source": [
    "class C : public B, public std::string {\n",
    "    \n",
    "};\n",
    "\n",
    "{\n",
    "    auto* c = new C();\n",
    "    std::shared_ptr<C> sp(c);\n",
    "    std::shared_ptr<A> sp2 = sp;\n",
    "    std::shared_ptr<std::string> sp3 = sp;\n",
    "\n",
    "    std::cout << \"Raw: \" << c << std::endl;\n",
    "    \n",
    "    std::cout << \"sp: \" << sp.get() << std::endl;\n",
    "    std::cout << \"sp2: \" << sp2.get() << std::endl;\n",
    "    std::cout << \"sp3: \" << sp3.get() << std::endl;\n",
    "}"
   ]
  },
  {
   "cell_type": "markdown",
   "metadata": {},
   "source": [
    "### `std::make_shared` vs `new`"
   ]
  },
  {
   "cell_type": "markdown",
   "metadata": {},
   "source": [
    "![](./img/make_shared_vs_new.png)"
   ]
  },
  {
   "cell_type": "markdown",
   "metadata": {},
   "source": [
    "### costructor aliasing"
   ]
  },
  {
   "cell_type": "code",
   "execution_count": 32,
   "metadata": {},
   "outputs": [],
   "source": [
    "class Foo {\n",
    "public:\n",
    "    int f;\n",
    "    \n",
    "    Foo() {\n",
    "        std::cout << \"Foo...\\n\";\n",
    "    }\n",
    "    \n",
    "    ~Foo() {\n",
    "        std::cout << \"~Foo...\\n\";    \n",
    "    }\n",
    "};\n",
    "\n",
    "class Bar {\n",
    "public:\n",
    "    Foo foo;\n",
    "        \n",
    "    Bar() {\n",
    "        std::cout << \"Bar...\\n\";\n",
    "    }\n",
    "    \n",
    "    ~Bar() {\n",
    "        std::cout << \"~Bar...\\n\";    \n",
    "    }\n",
    "};"
   ]
  },
  {
   "cell_type": "code",
   "execution_count": 33,
   "metadata": {
    "scrolled": true
   },
   "outputs": [
    {
     "name": "stdout",
     "output_type": "stream",
     "text": [
      "Foo...\n",
      "Bar...\n",
      "2\n",
      "2\n",
      "0\n",
      "1\n",
      "~Bar...\n",
      "~Foo...\n"
     ]
    }
   ],
   "source": [
    "{\n",
    "    std::shared_ptr<Bar> barPtr = std::make_shared<Bar>();\n",
    "    std::shared_ptr<Foo> fooPtr(barPtr, &barPtr->foo);\n",
    "    \n",
    "    std::cout << barPtr.use_count() << std::endl;\n",
    "    std::cout << fooPtr.use_count() << std::endl;\n",
    "\n",
    "    barPtr.reset();\n",
    "    \n",
    "    std::cout << barPtr.use_count() << std::endl;\n",
    "    std::cout << fooPtr.use_count() << std::endl;\n",
    "\n",
    "    fooPtr->f = 10;\n",
    "}"
   ]
  },
  {
   "cell_type": "markdown",
   "metadata": {},
   "source": [
    "### `std::weak_ptr`"
   ]
  },
  {
   "cell_type": "code",
   "execution_count": 34,
   "metadata": {},
   "outputs": [],
   "source": [
    "// ?std::weak_ptr"
   ]
  },
  {
   "cell_type": "markdown",
   "metadata": {},
   "source": [
    "> std::weak_ptr is a smart pointer that holds a non-owning (\"weak\") reference to an object that is managed by std::shared_ptr. It must be converted to std::shared_ptr in order to access the referenced object."
   ]
  },
  {
   "cell_type": "code",
   "execution_count": 35,
   "metadata": {},
   "outputs": [
    {
     "name": "stdout",
     "output_type": "stream",
     "text": [
      "Foo...\n",
      "Foo wasn't destroyed\n",
      "0\n",
      "~Foo...\n"
     ]
    }
   ],
   "source": [
    "std::shared_ptr<Foo> ptr = std::make_shared<Foo>();\n",
    "\n",
    "std::weak_ptr<Foo> weak = ptr;\n",
    "\n",
    "if (std::shared_ptr<Foo> fromWeak = weak.lock()) {\n",
    "    std::cout << \"Foo wasn't destroyed\\n\";\n",
    "} else {\n",
    "    std::cout << \"Foo was destroyed\\n\";\n",
    "}\n",
    "\n",
    "std::cout << weak.expired() << std::endl;\n",
    "\n",
    "ptr.reset();"
   ]
  },
  {
   "cell_type": "code",
   "execution_count": 36,
   "metadata": {},
   "outputs": [
    {
     "name": "stdout",
     "output_type": "stream",
     "text": [
      "Foo...\n",
      "~Foo...\n",
      "Foo was destroyed\n",
      "1\n"
     ]
    }
   ],
   "source": [
    "std::shared_ptr<Foo> ptr = std::make_shared<Foo>();\n",
    "\n",
    "std::weak_ptr<Foo> weak = ptr;\n",
    "\n",
    "ptr.reset();\n",
    "\n",
    "if (std::shared_ptr<Foo> fromWeak = weak.lock()) {\n",
    "    std::cout << \"Foo wasn't destroyed\\n\";\n",
    "} else {\n",
    "    std::cout << \"Foo was destroyed\\n\";\n",
    "}\n",
    "\n",
    "std::cout << weak.expired() << std::endl;\n"
   ]
  },
  {
   "cell_type": "markdown",
   "metadata": {},
   "source": [
    "### Jakie problemy rozwiązują?"
   ]
  },
  {
   "cell_type": "code",
   "execution_count": 37,
   "metadata": {},
   "outputs": [],
   "source": [
    "class Base {\n",
    "    \n",
    "};\n",
    "\n",
    "class F : public Base {\n",
    "public:\n",
    "    std::shared_ptr<Base> ptr;\n",
    "    \n",
    "    void setPtr(std::shared_ptr<Base> newPtr) {\n",
    "        ptr = newPtr;\n",
    "    }\n",
    "    \n",
    "    F() {\n",
    "        std::cout << \"Foo...\\n\";\n",
    "    }\n",
    "    \n",
    "    ~F() {\n",
    "        std::cout << \"~Foo...\\n\";    \n",
    "    }\n",
    "};\n",
    "\n",
    "class D : public Base {\n",
    "public:\n",
    "    std::shared_ptr<Base> ptr;\n",
    "       \n",
    "    void setPtr(std::shared_ptr<Base> newPtr) {\n",
    "        ptr = newPtr;\n",
    "    }\n",
    "    \n",
    "    D() {\n",
    "        std::cout << \"Bar...\\n\";\n",
    "    }\n",
    "    \n",
    "    ~D() {\n",
    "        std::cout << \"~Bar...\\n\";    \n",
    "    }\n",
    "};"
   ]
  },
  {
   "cell_type": "code",
   "execution_count": 38,
   "metadata": {},
   "outputs": [
    {
     "name": "stdout",
     "output_type": "stream",
     "text": [
      "Foo...\n",
      "Bar...\n"
     ]
    }
   ],
   "source": [
    "{\n",
    "    std::shared_ptr<F> fPtr = std::make_shared<F>();\n",
    "    std::shared_ptr<D> dPtr = std::make_shared<D>();\n",
    "    \n",
    "    fPtr->setPtr(dPtr);\n",
    "    dPtr->setPtr(fPtr);\n",
    "}"
   ]
  },
  {
   "cell_type": "code",
   "execution_count": 39,
   "metadata": {},
   "outputs": [],
   "source": [
    "class FFix : public Base {\n",
    "public:\n",
    "    std::shared_ptr<Base> ptr;\n",
    "    \n",
    "    void setPtr(std::shared_ptr<Base> newPtr) {\n",
    "        ptr = newPtr;\n",
    "    }\n",
    "    \n",
    "    FFix() {\n",
    "        std::cout << \"Foo...\\n\";\n",
    "    }\n",
    "    \n",
    "    ~FFix() {\n",
    "        std::cout << \"~Foo...\\n\";    \n",
    "    }\n",
    "};\n",
    "\n",
    "class DFix : public Base {\n",
    "public:\n",
    "    std::weak_ptr<Base> ptr;\n",
    "       \n",
    "    void setPtr(std::shared_ptr<Base> newPtr) {\n",
    "        ptr = newPtr;\n",
    "    }\n",
    "    \n",
    "    DFix() {\n",
    "        std::cout << \"Bar...\\n\";\n",
    "    }\n",
    "    \n",
    "    ~DFix() {\n",
    "        std::cout << \"~Bar...\\n\";    \n",
    "    }\n",
    "};"
   ]
  },
  {
   "cell_type": "code",
   "execution_count": 40,
   "metadata": {},
   "outputs": [
    {
     "name": "stdout",
     "output_type": "stream",
     "text": [
      "Foo...\n",
      "Bar...\n",
      "~Foo...\n",
      "~Bar...\n"
     ]
    }
   ],
   "source": [
    "{\n",
    "    std::shared_ptr<FFix> fPtr = std::make_shared<FFix>();\n",
    "    std::shared_ptr<DFix> dPtr = std::make_shared<DFix>();\n",
    "    \n",
    "    fPtr->setPtr(dPtr);\n",
    "    dPtr->setPtr(fPtr);\n",
    "}"
   ]
  },
  {
   "cell_type": "markdown",
   "metadata": {},
   "source": [
    "> Use `std::weak_ptr` for **shared_ptr**-like pointers that can dangle (and __know__ when they are dangling). ~ **Scott Meyers**"
   ]
  },
  {
   "cell_type": "markdown",
   "metadata": {},
   "source": [
    "### Czy na pewno `std::make_shared` jest lepsze od `new`?"
   ]
  },
  {
   "cell_type": "code",
   "execution_count": 41,
   "metadata": {},
   "outputs": [],
   "source": [
    "struct BigData {\n",
    "    BigData() {\n",
    "        std::cout << \"BigData...\\n\";\n",
    "    }\n",
    "    \n",
    "    ~BigData() {\n",
    "        std::cout << \"~BigData...\\n\";    \n",
    "    }\n",
    "};"
   ]
  },
  {
   "cell_type": "code",
   "execution_count": 42,
   "metadata": {},
   "outputs": [
    {
     "name": "stdout",
     "output_type": "stream",
     "text": [
      "BigData...\n",
      "~BigData...\n"
     ]
    }
   ],
   "source": [
    "{\n",
    "    std::shared_ptr<BigData> sp = std::make_shared<BigData>();\n",
    "    std::weak_ptr<BigData> weak = sp;\n",
    "    \n",
    "    sp.reset();\n",
    "}"
   ]
  },
  {
   "cell_type": "code",
   "execution_count": 43,
   "metadata": {},
   "outputs": [
    {
     "name": "stdout",
     "output_type": "stream",
     "text": [
      "BigData...\n",
      "~BigData...\n"
     ]
    }
   ],
   "source": [
    "{\n",
    "    std::shared_ptr<BigData> sp(new BigData);\n",
    "    std::weak_ptr<BigData> weak = sp;\n",
    "    \n",
    "    sp.reset();\n",
    "}"
   ]
  },
  {
   "cell_type": "markdown",
   "metadata": {},
   "source": [
    "### `std::unique_ptr`"
   ]
  },
  {
   "cell_type": "code",
   "execution_count": 44,
   "metadata": {},
   "outputs": [],
   "source": [
    "// ?std::unique_ptr"
   ]
  },
  {
   "cell_type": "markdown",
   "metadata": {},
   "source": [
    "> Use `std::unique_ptr` for exclusive-ownership resource management. ~ **Scott Meyers**"
   ]
  },
  {
   "cell_type": "code",
   "execution_count": 45,
   "metadata": {},
   "outputs": [
    {
     "name": "stdout",
     "output_type": "stream",
     "text": [
      "A...\n",
      "~A...\n"
     ]
    }
   ],
   "source": [
    "{\n",
    "    std::unique_ptr<A> up(new A);\n",
    "}"
   ]
  },
  {
   "cell_type": "code",
   "execution_count": 46,
   "metadata": {},
   "outputs": [
    {
     "name": "stdout",
     "output_type": "stream",
     "text": [
      "A...\n",
      "~A...\n"
     ]
    }
   ],
   "source": [
    "{\n",
    "    std::unique_ptr<A> up(new A);\n",
    "//     std::unique_ptr<A> up2 = up;\n",
    "}"
   ]
  },
  {
   "cell_type": "code",
   "execution_count": 47,
   "metadata": {},
   "outputs": [
    {
     "name": "stdout",
     "output_type": "stream",
     "text": [
      "A...\n",
      "0\n",
      "0x55a57e370630\n",
      "~A...\n"
     ]
    }
   ],
   "source": [
    "{\n",
    "    std::unique_ptr<A> up(new A);\n",
    "    std::unique_ptr<A> up2 = std::move(up);\n",
    "    \n",
    "    std::cout << up.get() << std::endl;\n",
    "    std::cout << up2.get() << std::endl;\n",
    "}"
   ]
  },
  {
   "cell_type": "markdown",
   "metadata": {},
   "source": [
    "### `std::make_unique`"
   ]
  },
  {
   "cell_type": "code",
   "execution_count": 48,
   "metadata": {},
   "outputs": [],
   "source": [
    "{\n",
    "    std::unique_ptr<int> up = std::make_unique<int>();\n",
    "}"
   ]
  },
  {
   "cell_type": "markdown",
   "metadata": {},
   "source": [
    "### `std::shared_ptr` z `std::unique_ptr`"
   ]
  },
  {
   "cell_type": "code",
   "execution_count": 49,
   "metadata": {},
   "outputs": [],
   "source": [
    "{\n",
    "    std::unique_ptr<std::string> uq = std::make_unique<std::string>(\"test\");\n",
    "    std::shared_ptr<std::string> sp = std::move(uq);\n",
    "}"
   ]
  },
  {
   "cell_type": "code",
   "execution_count": 50,
   "metadata": {},
   "outputs": [
    {
     "name": "stdout",
     "output_type": "stream",
     "text": [
      "A...\n",
      "A...\n",
      "A...\n",
      "B...\n",
      "A\n",
      "A\n",
      "B\n",
      "~A...\n",
      "~A...\n",
      "~B...\n",
      "~A...\n"
     ]
    }
   ],
   "source": [
    "{\n",
    "    std::vector<std::shared_ptr<A>> vec;\n",
    "\n",
    "    vec.push_back(std::make_shared<A>());\n",
    "    vec.emplace_back(new A());\n",
    "    vec.emplace_back(new B());\n",
    "\n",
    "    for (auto a : vec) { // a może auto& <- ?\n",
    "        a->print();\n",
    "    }\n",
    "}"
   ]
  },
  {
   "cell_type": "code",
   "execution_count": 51,
   "metadata": {},
   "outputs": [
    {
     "name": "stdout",
     "output_type": "stream",
     "text": [
      "A...\n",
      "A...\n",
      "A...\n",
      "B...\n",
      "A\n",
      "A\n",
      "B\n",
      "~A...\n",
      "~A...\n",
      "~A...\n"
     ]
    }
   ],
   "source": [
    "{\n",
    "    std::vector<std::unique_ptr<A>> vec;\n",
    "\n",
    "    vec.push_back(std::make_unique<A>());\n",
    "    vec.emplace_back(new A());\n",
    "    vec.emplace_back(new B());\n",
    "\n",
    "    for (auto& a : vec) { // tu musi być auto&\n",
    "        a->print();\n",
    "    }\n",
    "}"
   ]
  },
  {
   "cell_type": "markdown",
   "metadata": {},
   "source": [
    "### Jak przekazywać smart pointery?"
   ]
  },
  {
   "cell_type": "code",
   "execution_count": 52,
   "metadata": {},
   "outputs": [],
   "source": [
    "void t(const std::unique_ptr<std::string>& up) {\n",
    "//     std::unique_ptr<std::string> temp = std::move(up);\n",
    "}"
   ]
  },
  {
   "cell_type": "code",
   "execution_count": 53,
   "metadata": {},
   "outputs": [],
   "source": [
    "void t2(std::unique_ptr<std::string>& up) {\n",
    "    std::unique_ptr<std::string> temp = std::move(up);\n",
    "}"
   ]
  },
  {
   "cell_type": "code",
   "execution_count": 54,
   "metadata": {},
   "outputs": [],
   "source": [
    "void t3(std::unique_ptr<std::string> up) {\n",
    "     std::unique_ptr<std::string> temp = std::move(up);\n",
    "}"
   ]
  },
  {
   "cell_type": "code",
   "execution_count": 55,
   "metadata": {},
   "outputs": [],
   "source": [
    "void t4(std::unique_ptr<std::string>&& up) {\n",
    "     std::unique_ptr<std::string> temp = std::move(up);\n",
    "}"
   ]
  },
  {
   "cell_type": "code",
   "execution_count": 56,
   "metadata": {},
   "outputs": [],
   "source": [
    "class Moveable {\n",
    "public:\n",
    "    std::string id;\n",
    "    \n",
    "    Moveable(std::string id) : id(id) {}\n",
    "    Moveable(Moveable&& other) {\n",
    "        std::cout << \"Move \" << other.id << std::endl;\n",
    "        id = std::move(other.id);\n",
    "    }\n",
    "}"
   ]
  },
  {
   "cell_type": "code",
   "execution_count": 57,
   "metadata": {},
   "outputs": [],
   "source": [
    "void t(Moveable&& m) {}"
   ]
  },
  {
   "cell_type": "code",
   "execution_count": 58,
   "metadata": {},
   "outputs": [
    {
     "name": "stdout",
     "output_type": "stream",
     "text": [
      "m1\n"
     ]
    }
   ],
   "source": [
    "Moveable m(\"m1\");\n",
    "t(std::move(m));\n",
    "std::cout << m.id << std::endl;"
   ]
  },
  {
   "cell_type": "code",
   "execution_count": 59,
   "metadata": {},
   "outputs": [],
   "source": [
    "void t2(Moveable&& m) {\n",
    "    Moveable inner = std::move(m);\n",
    "}"
   ]
  },
  {
   "cell_type": "code",
   "execution_count": 60,
   "metadata": {},
   "outputs": [
    {
     "name": "stdout",
     "output_type": "stream",
     "text": [
      "Move m2\n",
      "\n"
     ]
    }
   ],
   "source": [
    "Moveable m(\"m2\");\n",
    "t2(std::move(m));\n",
    "std::cout << m.id << std::endl;"
   ]
  },
  {
   "cell_type": "markdown",
   "metadata": {},
   "source": [
    "### Najczęściej popełniane błędy"
   ]
  },
  {
   "cell_type": "code",
   "execution_count": 61,
   "metadata": {},
   "outputs": [],
   "source": [
    "{\n",
    "    std::shared_ptr<int> sp = std::make_shared<int>();\n",
    "    std::weak_ptr<int> weak = sp;\n",
    "    \n",
    "    if (!weak.expired()) {\n",
    "        auto fromWeak = weak.lock();\n",
    "    }\n",
    "}"
   ]
  },
  {
   "cell_type": "code",
   "execution_count": 62,
   "metadata": {},
   "outputs": [],
   "source": [
    "auto* raw = new int;\n",
    "std::shared_ptr<int> sp(raw);\n",
    "std::shared_ptr<int> sp2(raw);"
   ]
  },
  {
   "cell_type": "markdown",
   "metadata": {},
   "source": [
    "![](./img/cd.png)"
   ]
  },
  {
   "cell_type": "code",
   "execution_count": 63,
   "metadata": {},
   "outputs": [],
   "source": [
    "{\n",
    "    std::unique_ptr<int> ptr = std::make_unique<int>(10);\n",
    "    int* v = ptr.release();\n",
    "}"
   ]
  },
  {
   "cell_type": "code",
   "execution_count": 64,
   "metadata": {},
   "outputs": [],
   "source": [
    "auto* raw = new int;\n",
    "std::shared_ptr<int> sp(raw);\n",
    "delete raw;"
   ]
  },
  {
   "cell_type": "markdown",
   "metadata": {},
   "source": [
    "### `std::enable_shared_from_this`"
   ]
  },
  {
   "cell_type": "code",
   "execution_count": 65,
   "metadata": {},
   "outputs": [],
   "source": [
    "struct Good: std::enable_shared_from_this<Good> {\n",
    "    std::shared_ptr<Good> getptr() {\n",
    "        return shared_from_this();\n",
    "    }\n",
    "};\n",
    " \n",
    "struct Bad {\n",
    "    std::shared_ptr<Bad> getptr() {\n",
    "        return std::shared_ptr<Bad>(this);\n",
    "    }\n",
    "};"
   ]
  },
  {
   "cell_type": "code",
   "execution_count": 66,
   "metadata": {},
   "outputs": [
    {
     "name": "stdout",
     "output_type": "stream",
     "text": [
      "gp2.use_count() = 2\n",
      "bad_weak_ptr\n",
      "bp2.use_count() = 1\n"
     ]
    }
   ],
   "source": [
    "// Good: the two shared_ptr's share the same object\n",
    "std::shared_ptr<Good> gp1 = std::make_shared<Good>();\n",
    "std::shared_ptr<Good> gp2 = gp1->getptr();\n",
    "std::cout << \"gp2.use_count() = \" << gp2.use_count() << '\\n';\n",
    "\n",
    "// Bad: shared_from_this is called without having std::shared_ptr owning the caller \n",
    "try {\n",
    "    Good not_so_good;\n",
    "    std::shared_ptr<Good> gp1 = not_so_good.getptr();\n",
    "} catch(std::bad_weak_ptr& e) {\n",
    "    // undefined behavior (until C++17) and std::bad_weak_ptr thrown (since C++17)\n",
    "    std::cout << e.what() << '\\n';    \n",
    "}\n",
    "\n",
    "// Bad, each shared_ptr thinks it's the only owner of the object\n",
    "std::shared_ptr<Bad> bp1 = std::make_shared<Bad>();\n",
    "std::shared_ptr<Bad> bp2 = bp1->getptr();\n",
    "std::cout << \"bp2.use_count() = \" << bp2.use_count() << '\\n';"
   ]
  },
  {
   "cell_type": "markdown",
   "metadata": {},
   "source": [
    "### `std::optional`"
   ]
  },
  {
   "cell_type": "code",
   "execution_count": 67,
   "metadata": {},
   "outputs": [],
   "source": [
    "// ?std::optional"
   ]
  },
  {
   "cell_type": "code",
   "execution_count": 68,
   "metadata": {},
   "outputs": [],
   "source": [
    "#include <optional>"
   ]
  },
  {
   "cell_type": "code",
   "execution_count": 69,
   "metadata": {},
   "outputs": [
    {
     "name": "stdout",
     "output_type": "stream",
     "text": [
      "1\n",
      "Has value\n",
      "Godzilla\n",
      "Godzilla\n",
      "null\n",
      "bad optional access\n",
      "Default value\n"
     ]
    }
   ],
   "source": [
    "auto opt = std::optional<std::string>(\"Godzilla\");\n",
    "\n",
    "std::cout << opt.has_value() << std::endl;\n",
    "if (opt) {\n",
    "    std::cout << \"Has value\" << std::endl;\n",
    "}\n",
    "\n",
    "std::cout << opt.value() << std::endl;\n",
    "\n",
    "std::cout << opt.value_or(\"Default value\") << std::endl;\n",
    "\n",
    "opt = std::nullopt;\n",
    "if (!opt) {\n",
    "    std::cout << \"null\" << std::endl;\n",
    "} \n",
    "\n",
    "try {\n",
    "    std::cout << opt.value() << std::endl;\n",
    "} catch(std::bad_optional_access& e) {\n",
    "    std::cout << e.what() << std::endl;\n",
    "}\n",
    "\n",
    "std::cout << opt.value_or(\"Default value\") << std::endl;"
   ]
  },
  {
   "cell_type": "markdown",
   "metadata": {},
   "source": [
    "### Leniwe wartościowanie"
   ]
  },
  {
   "cell_type": "code",
   "execution_count": 70,
   "metadata": {},
   "outputs": [],
   "source": [
    "struct Point { \n",
    "    int x;\n",
    "    int y; \n",
    "};"
   ]
  },
  {
   "cell_type": "code",
   "execution_count": 71,
   "metadata": {},
   "outputs": [],
   "source": [
    "template<typename Left, typename Right>\n",
    "struct AddOp {\n",
    "    const Left& left;\n",
    "    const Right& right;\n",
    "\n",
    "    AddOp(const Left& left, const Right& right) : left(left), right(right) {}\n",
    "};"
   ]
  },
  {
   "cell_type": "code",
   "execution_count": 72,
   "metadata": {},
   "outputs": [],
   "source": [
    "struct Point { \n",
    "    int x;\n",
    "    int y; \n",
    "    \n",
    "    Point(int x, int y) : x(x), y(y) {}\n",
    "    \n",
    "    AddOp<Point, Point> operator+(const Point& right) {\n",
    "        return AddOp<Point, Point>(*this, right);\n",
    "    }\n",
    "};"
   ]
  },
  {
   "cell_type": "code",
   "execution_count": 73,
   "metadata": {},
   "outputs": [],
   "source": [
    "struct Point { \n",
    "    int x;\n",
    "    int y; \n",
    "    \n",
    "    Point(int x, int y) : x(x), y(y) {}\n",
    "    \n",
    "    template<typename Left, typename Right>\n",
    "    Point(const AddOp<Left, Right>& op) {\n",
    "        x = op.getX();\n",
    "        y = op.getY();\n",
    "    }\n",
    "\n",
    "    template<typename Left, typename Right>\n",
    "    Point& operator=(const AddOp<Left, Right>& op) {\n",
    "        x = op.getX();\n",
    "        y = op.getY();\n",
    "        return *this;\n",
    "    }\n",
    "    \n",
    "    AddOp<Point, Point> operator+(const Point& right) {\n",
    "        return AddOp<Point, Point>(*this, right);\n",
    "    }\n",
    "    \n",
    "    int getX() const { return x; }\n",
    "    int getY() const { return y; }\n",
    "};"
   ]
  },
  {
   "cell_type": "code",
   "execution_count": 74,
   "metadata": {},
   "outputs": [],
   "source": [
    "template<typename Left, typename Right>\n",
    "struct AddOp {\n",
    "    const Left& left;\n",
    "    const Right& right;\n",
    "\n",
    "    AddOp(const Left& left, const Right& right) : left(left), right(right) {}\n",
    "    \n",
    "    int getX() const { return left.getX() + right.getX(); }\n",
    "    int getY() const { return left.getY() + right.getY(); }\n",
    "};"
   ]
  },
  {
   "cell_type": "code",
   "execution_count": 75,
   "metadata": {},
   "outputs": [],
   "source": [
    "template<typename Left, typename Right> \n",
    "AddOp<AddOp<Left, Right>, Point> operator+(const AddOp<Left, Right>& left, const Point& p) {\n",
    "    return AddOp<AddOp<Left, Right>, Point>(left, p);\n",
    "} "
   ]
  },
  {
   "cell_type": "code",
   "execution_count": 76,
   "metadata": {},
   "outputs": [],
   "source": [
    "template<typename Left, typename Right> \n",
    "AddOp<Point, AddOp<Left, Right>> operator+(const Point& p, const AddOp<Left, Right>& rhs) {\n",
    "    return AddOp<Point, AddOp<Left, Right>>(p, rhs);\n",
    "}"
   ]
  },
  {
   "cell_type": "code",
   "execution_count": 77,
   "metadata": {},
   "outputs": [],
   "source": [
    "Point p1{ 1, 2 };\n",
    "Point p2{ 3, 4 };\n",
    "Point p3{ 5, 6 };\n",
    "\n",
    "// Point result = p1 + p2 + p3;\n"
   ]
  },
  {
   "cell_type": "markdown",
   "metadata": {},
   "source": [
    "### Funkcje konwertujące"
   ]
  },
  {
   "cell_type": "code",
   "execution_count": 78,
   "metadata": {},
   "outputs": [],
   "source": [
    "struct X {\n",
    "    operator int() const { return 7; }\n",
    "};"
   ]
  },
  {
   "cell_type": "code",
   "execution_count": 79,
   "metadata": {},
   "outputs": [],
   "source": [
    "X x;\n",
    "\n",
    "int intFromX = x;"
   ]
  },
  {
   "cell_type": "code",
   "execution_count": 80,
   "metadata": {},
   "outputs": [
    {
     "data": {
      "text/plain": [
       "7"
      ]
     },
     "execution_count": 80,
     "metadata": {},
     "output_type": "execute_result"
    }
   ],
   "source": [
    "intFromX"
   ]
  },
  {
   "cell_type": "code",
   "execution_count": 81,
   "metadata": {},
   "outputs": [],
   "source": [
    "struct Y {\n",
    "    explicit operator double() const { return 1.0; }\n",
    "};"
   ]
  },
  {
   "cell_type": "code",
   "execution_count": 82,
   "metadata": {},
   "outputs": [],
   "source": [
    "Y y;\n",
    "\n",
    "// double doubleFromY = y; <- to nie zadziała \n",
    "// double doubleFromY = (double)y;\n",
    "double doubleFromY = static_cast<double>(y);\n"
   ]
  },
  {
   "cell_type": "code",
   "execution_count": 83,
   "metadata": {},
   "outputs": [
    {
     "data": {
      "text/plain": [
       "1.0000000"
      ]
     },
     "execution_count": 83,
     "metadata": {},
     "output_type": "execute_result"
    }
   ],
   "source": [
    "doubleFromY"
   ]
  },
  {
   "cell_type": "code",
   "execution_count": null,
   "metadata": {},
   "outputs": [],
   "source": []
  }
 ],
 "metadata": {
  "kernelspec": {
   "display_name": "C++17",
   "language": "C++17",
   "name": "xcpp17"
  },
  "language_info": {
   "codemirror_mode": "text/x-c++src",
   "file_extension": ".cpp",
   "mimetype": "text/x-c++src",
   "name": "c++",
   "version": "17"
  }
 },
 "nbformat": 4,
 "nbformat_minor": 4
}
